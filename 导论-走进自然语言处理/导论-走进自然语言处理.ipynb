{
 "cells": [
  {
   "cell_type": "markdown",
   "metadata": {
    "collapsed": false
   },
   "source": [
    "## 预习作业：本地安装飞桨，成功后运行测试代码并截图上传\n",
    "\n",
    "**注意**：**<span style=\"color:red\">作业必须在本地完成</span>**，不是在AIStudio进行操作。**<span style=\"color:red\">该部分在总成绩占比10%</span>**，如遇到问题，请在群聊/讨论区进行询问，会有助教进行解答~\n",
    "\n",
    "你需要做：\n",
    "\n",
    "\t1.安装最新版本PaddlePaddle(2.1.0)\n",
    "安装文档：[https://paddlepaddle.org.cn/install/quick](https://paddlepaddle.org.cn/install/quick)\n",
    "\t\t\n",
    "\t2.本地安装成功,输入测试代码并截图\n",
    "**提示**：安装完成后您可以使用 python 或 python3 进入python解释器，输入import paddle ，再输入 paddle.utils.run_check()\n",
    "\n",
    "如果出现PaddlePaddle is installed successfully!，说明您已成功安装。\n",
    "\n",
    "**注**：以下两个项目是1.多版本时候所写，大致内容是不变的，大家安装的时候请安装2.1.0版本~(CPU/GPU均可)\n",
    "\n",
    "本地安装PaddlePaddle的常见错误：[https://aistudio.baidu.com/aistudio/projectdetail/697227](https://aistudio.baidu.com/aistudio/projectdetail/697227)\n",
    "\n",
    "手把手教你 win10 安装Paddlepaddle-GPU：[https://aistudio.baidu.com/aistudio/projectdetail/696822](https://aistudio.baidu.com/aistudio/projectdetail/696822)\n",
    "\n",
    "\t3.上传截图(下方是上传流程)\n",
    "![](https://ai-studio-static-online.cdn.bcebos.com/129200c3adcd419e9c46b8bfd79f383e80df13f413734a40b67abe9989279b29)\n",
    "\n",
    "![](https://ai-studio-static-online.cdn.bcebos.com/36df9d0672624829ae867fea894c867bdb32519d43d24c5f913df11fc39202a6)"
   ]
  },
  {
   "cell_type": "markdown",
   "metadata": {
    "collapsed": false
   },
   "source": [
    "**######请在这里提交图片######**\n",
    "\n",
    "![](https://ai-studio-static-online.cdn.bcebos.com/47efb26532994b7baa878cc83d92140ac02ab5e5bc4a49078280a21a9f233895)\n",
    "\n"
   ]
  }
 ],
 "metadata": {
  "kernelspec": {
   "display_name": "PaddlePaddle 2.1.0 (Python 3.5)",
   "language": "python",
   "name": "py35-paddle1.2.0"
  },
  "language_info": {
   "codemirror_mode": {
    "name": "ipython",
    "version": 3
   },
   "file_extension": ".py",
   "mimetype": "text/x-python",
   "name": "python",
   "nbconvert_exporter": "python",
   "pygments_lexer": "ipython3",
   "version": "3.7.4"
  }
 },
 "nbformat": 4,
 "nbformat_minor": 1
}
